{
 "cells": [
  {
   "cell_type": "markdown",
   "metadata": {},
   "source": [
    "# Hola Alejandro!\n",
    "\n",
    "Mi nombre es David Bautista, soy code reviewer de Tripleten y hoy tengo el gusto de revisar tu proyecto.\n",
    "\n",
    "Cuando vea un error la primera vez, lo señalaré. Deberás encontrarlo y arreglarlo. La intención es que te prepares para un espacio real de trabajo. En un trabajo, el líder de tu equipo hará lo mismo. Si no puedes solucionar el error, te daré más información en la próxima ocasión.\n",
    "\n",
    "Encontrarás mis comentarios más abajo - por favor, no los muevas, no los modifiques ni los borres.\n",
    "\n",
    "¿Cómo lo voy a hacer? Voy a leer detenidamente cada una de las implementaciones que has llevado a cabo para cumplir con lo solicitado. Verás los comentarios de esta forma:\n",
    "\n",
    "<div class=\"alert alert-block alert-success\">\n",
    "<b>Comentario del revisor</b> <a class=\"tocSkip\"></a>\n",
    "    \n",
    "Si todo está perfecto.\n",
    "</div>\n",
    "\n",
    "\n",
    "<div class=\"alert alert-block alert-warning\">\n",
    "<b>Comentario del revisor</b> <a class=\"tocSkip\"></a>\n",
    "    \n",
    "Si tu código está bien pero se puede mejorar o hay algún detalle que le hace falta.\n",
    "</div>\n",
    "\n",
    "\n",
    "<div class=\"alert alert-block alert-danger\">\n",
    "    \n",
    "<b>Comentario del revisor</b> <a class=\"tocSkip\"></a>\n",
    "    \n",
    "Si de pronto hace falta algo o existe algún problema con tu código o conclusiones.\n",
    "</div>\n",
    "\n",
    "\n",
    "Puedes responderme de esta forma: \n",
    "\n",
    "<div class=\"alert alert-block alert-info\">\n",
    "<b>Respuesta del estudiante</b> <a class=\"tocSkip\"></a>\n",
    "</div>\n",
    "\n",
    "¡Empecemos!"
   ]
  },
  {
   "cell_type": "markdown",
   "metadata": {},
   "source": [
    "\n",
    "<div class=\"alert alert-block alert-danger\">\n",
    "<b>Comentario del revisor</b> <a class=\"tocSkip\"></a>\n",
    "    \n",
    "# Comentario General\n",
    "    \n",
    "~~Hola, Alejandro, te felicito por el desarrollo del proyecto hasta el momento. Ahora bien, he dejado diferentes comentarios para que los puedas tener en cuenta para la siguiente entrega. Quedo atento.~~ </div>\n",
    "\n",
    "\n",
    "<div class=\"alert alert-block alert-danger\">\n",
    "<b>Comentario del revisor</b> <a class=\"tocSkip\"></a>\n",
    "    \n",
    "# Comentario General  #2\n",
    "    \n",
    "~~Hola, Alejandro, realizas un buen trabajo con las modificaciones en los datasets de órdenes y visitas. Ahora bien, es importante que el dataset de órdenes modificado lo conviertas en el que se usa para desarrollar los diferentes gráficos, de este modo, los cambios impactarán efectivamente en los resultados. Quedo atento para que puedas aplicar este cambio.~~ </div>\n",
    "\n",
    "\n",
    "<div class=\"alert alert-block alert-danger\">\n",
    "<b>Comentario del revisor</b> <a class=\"tocSkip\"></a>\n",
    "    \n",
    "# Comentario General  #3\n",
    "    \n",
    "~~Hola, Alejandro, he dejado nuevos comentarios etiquetados con el #3 para que los puedas tener en cuenta.~~ </div>\n",
    "\n",
    "\n",
    "\n",
    "<div class=\"alert alert-block alert-success\">\n",
    "<b>Comentario del revisor</b> <a class=\"tocSkip\"></a>\n",
    "    \n",
    "# Comentario General  #4\n",
    "    \n",
    "Hola, Alejandro, te felicto por la culminación del proyecto. Muy buen trabajo. </div>"
   ]
  },
  {
   "cell_type": "markdown",
   "metadata": {},
   "source": [
    "\n",
    "<div class=\"alert alert-block alert-danger\">\n",
    "<b>Comentario del revisor</b> <a class=\"tocSkip\"></a>\n",
    "\n",
    "~~Alejandro, es importante poder generar una sección de introducción para el desarrollo del proyecto. ~~"
   ]
  },
  {
   "cell_type": "markdown",
   "metadata": {},
   "source": [
    "# Introduccion\n",
    "\n",
    "En este proyecto vamos a priorizar las hipótesis que junto con el departamento de marketing se recopilaron para ayudar a aumentar los ingresos, lanzar un test A/B y analizar los resultados de este mismo."
   ]
  },
  {
   "cell_type": "code",
   "execution_count": 1,
   "metadata": {},
   "outputs": [],
   "source": [
    "import pandas as pd\n",
    "import datetime as dt\n",
    "import numpy as np\n",
    "import matplotlib.pyplot as plt\n",
    "import scipy.stats as stats"
   ]
  },
  {
   "cell_type": "markdown",
   "metadata": {},
   "source": [
    "\n",
    "<div class=\"alert alert-block alert-success\">\n",
    "<b>Comentario del revisor</b> <a class=\"tocSkip\"></a>\n",
    "\n",
    "Perfecto, buen trabajo importando las librerías necesarias para el desarrollo del proyecto. </div>"
   ]
  },
  {
   "cell_type": "code",
   "execution_count": 2,
   "metadata": {},
   "outputs": [],
   "source": [
    "hipotesis = pd.read_csv(\"/datasets/hypotheses_us.csv\",sep=';')\n",
    "\n",
    "ordenes = pd.read_csv(\"/datasets/orders_us.csv\")\n",
    "\n",
    "visitas = pd.read_csv(\"/datasets/visits_us.csv\")"
   ]
  },
  {
   "cell_type": "markdown",
   "metadata": {},
   "source": [
    "\n",
    "<div class=\"alert alert-block alert-success\">\n",
    "<b>Comentario del revisor</b> <a class=\"tocSkip\"></a>\n",
    "\n",
    "Perfecto, buen trabajo cargando los datasets necesarios para el desarrollo del proyecto. </div>"
   ]
  },
  {
   "cell_type": "code",
   "execution_count": 3,
   "metadata": {},
   "outputs": [
    {
     "name": "stdout",
     "output_type": "stream",
     "text": [
      "\n",
      "Valores faltantes en cada columna:\n",
      "Hypothesis    0\n",
      "Reach         0\n",
      "Impact        0\n",
      "Confidence    0\n",
      "Effort        0\n",
      "dtype: int64\n",
      "\n",
      "Número de duplicados:\n",
      "0\n",
      "<class 'pandas.core.frame.DataFrame'>\n",
      "RangeIndex: 9 entries, 0 to 8\n",
      "Data columns (total 5 columns):\n",
      " #   Column      Non-Null Count  Dtype \n",
      "---  ------      --------------  ----- \n",
      " 0   Hypothesis  9 non-null      object\n",
      " 1   Reach       9 non-null      int64 \n",
      " 2   Impact      9 non-null      int64 \n",
      " 3   Confidence  9 non-null      int64 \n",
      " 4   Effort      9 non-null      int64 \n",
      "dtypes: int64(4), object(1)\n",
      "memory usage: 488.0+ bytes\n"
     ]
    },
    {
     "data": {
      "text/html": [
       "<div>\n",
       "<style scoped>\n",
       "    .dataframe tbody tr th:only-of-type {\n",
       "        vertical-align: middle;\n",
       "    }\n",
       "\n",
       "    .dataframe tbody tr th {\n",
       "        vertical-align: top;\n",
       "    }\n",
       "\n",
       "    .dataframe thead th {\n",
       "        text-align: right;\n",
       "    }\n",
       "</style>\n",
       "<table border=\"1\" class=\"dataframe\">\n",
       "  <thead>\n",
       "    <tr style=\"text-align: right;\">\n",
       "      <th></th>\n",
       "      <th>Hypothesis</th>\n",
       "      <th>Reach</th>\n",
       "      <th>Impact</th>\n",
       "      <th>Confidence</th>\n",
       "      <th>Effort</th>\n",
       "    </tr>\n",
       "  </thead>\n",
       "  <tbody>\n",
       "    <tr>\n",
       "      <th>0</th>\n",
       "      <td>Add two new channels for attracting traffic. T...</td>\n",
       "      <td>3</td>\n",
       "      <td>10</td>\n",
       "      <td>8</td>\n",
       "      <td>6</td>\n",
       "    </tr>\n",
       "    <tr>\n",
       "      <th>1</th>\n",
       "      <td>Launch your own delivery service. This will sh...</td>\n",
       "      <td>2</td>\n",
       "      <td>5</td>\n",
       "      <td>4</td>\n",
       "      <td>10</td>\n",
       "    </tr>\n",
       "    <tr>\n",
       "      <th>2</th>\n",
       "      <td>Add product recommendation blocks to the store...</td>\n",
       "      <td>8</td>\n",
       "      <td>3</td>\n",
       "      <td>7</td>\n",
       "      <td>3</td>\n",
       "    </tr>\n",
       "    <tr>\n",
       "      <th>3</th>\n",
       "      <td>Change the category structure. This will incre...</td>\n",
       "      <td>8</td>\n",
       "      <td>3</td>\n",
       "      <td>3</td>\n",
       "      <td>8</td>\n",
       "    </tr>\n",
       "    <tr>\n",
       "      <th>4</th>\n",
       "      <td>Change the background color on the main page. ...</td>\n",
       "      <td>3</td>\n",
       "      <td>1</td>\n",
       "      <td>1</td>\n",
       "      <td>1</td>\n",
       "    </tr>\n",
       "  </tbody>\n",
       "</table>\n",
       "</div>"
      ],
      "text/plain": [
       "                                          Hypothesis  Reach  Impact  \\\n",
       "0  Add two new channels for attracting traffic. T...      3      10   \n",
       "1  Launch your own delivery service. This will sh...      2       5   \n",
       "2  Add product recommendation blocks to the store...      8       3   \n",
       "3  Change the category structure. This will incre...      8       3   \n",
       "4  Change the background color on the main page. ...      3       1   \n",
       "\n",
       "   Confidence  Effort  \n",
       "0           8       6  \n",
       "1           4      10  \n",
       "2           7       3  \n",
       "3           3       8  \n",
       "4           1       1  "
      ]
     },
     "execution_count": 3,
     "metadata": {},
     "output_type": "execute_result"
    }
   ],
   "source": [
    "hipotesis.drop_duplicates()\n",
    "\n",
    "print(\"\\nValores faltantes en cada columna:\")\n",
    "print(hipotesis.isnull().sum())\n",
    "    \n",
    "print(\"\\nNúmero de duplicados:\")\n",
    "print(hipotesis.duplicated().sum())\n",
    "\n",
    "hipotesis.info()\n",
    "hipotesis.head()"
   ]
  },
  {
   "cell_type": "markdown",
   "metadata": {},
   "source": [
    "\n",
    "<div class=\"alert alert-block alert-success\">\n",
    "<b>Comentario del revisor</b> <a class=\"tocSkip\"></a>\n",
    "\n",
    "Excelente, buen trabajo realizando esta exploración inicial para el dataset ``hipotesis``. </div>"
   ]
  },
  {
   "cell_type": "code",
   "execution_count": 4,
   "metadata": {
    "scrolled": false
   },
   "outputs": [
    {
     "name": "stdout",
     "output_type": "stream",
     "text": [
      "\n",
      "Valores faltantes en cada columna:\n",
      "transactionId    0\n",
      "visitorId        0\n",
      "date             0\n",
      "revenue          0\n",
      "group            0\n",
      "dtype: int64\n",
      "\n",
      "Número de duplicados:\n",
      "0\n",
      "<class 'pandas.core.frame.DataFrame'>\n",
      "Int64Index: 1016 entries, 0 to 1196\n",
      "Data columns (total 5 columns):\n",
      " #   Column         Non-Null Count  Dtype         \n",
      "---  ------         --------------  -----         \n",
      " 0   transactionId  1016 non-null   int64         \n",
      " 1   visitorId      1016 non-null   int64         \n",
      " 2   date           1016 non-null   datetime64[ns]\n",
      " 3   revenue        1016 non-null   float64       \n",
      " 4   group          1016 non-null   object        \n",
      "dtypes: datetime64[ns](1), float64(1), int64(2), object(1)\n",
      "memory usage: 47.6+ KB\n"
     ]
    },
    {
     "data": {
      "text/html": [
       "<div>\n",
       "<style scoped>\n",
       "    .dataframe tbody tr th:only-of-type {\n",
       "        vertical-align: middle;\n",
       "    }\n",
       "\n",
       "    .dataframe tbody tr th {\n",
       "        vertical-align: top;\n",
       "    }\n",
       "\n",
       "    .dataframe thead th {\n",
       "        text-align: right;\n",
       "    }\n",
       "</style>\n",
       "<table border=\"1\" class=\"dataframe\">\n",
       "  <thead>\n",
       "    <tr style=\"text-align: right;\">\n",
       "      <th></th>\n",
       "      <th>transactionId</th>\n",
       "      <th>visitorId</th>\n",
       "      <th>date</th>\n",
       "      <th>revenue</th>\n",
       "      <th>group</th>\n",
       "    </tr>\n",
       "  </thead>\n",
       "  <tbody>\n",
       "    <tr>\n",
       "      <th>0</th>\n",
       "      <td>3667963787</td>\n",
       "      <td>3312258926</td>\n",
       "      <td>2019-08-15</td>\n",
       "      <td>30.4</td>\n",
       "      <td>B</td>\n",
       "    </tr>\n",
       "    <tr>\n",
       "      <th>1</th>\n",
       "      <td>2804400009</td>\n",
       "      <td>3642806036</td>\n",
       "      <td>2019-08-15</td>\n",
       "      <td>15.2</td>\n",
       "      <td>B</td>\n",
       "    </tr>\n",
       "    <tr>\n",
       "      <th>3</th>\n",
       "      <td>3797467345</td>\n",
       "      <td>1196621759</td>\n",
       "      <td>2019-08-15</td>\n",
       "      <td>155.1</td>\n",
       "      <td>B</td>\n",
       "    </tr>\n",
       "    <tr>\n",
       "      <th>4</th>\n",
       "      <td>2282983706</td>\n",
       "      <td>2322279887</td>\n",
       "      <td>2019-08-15</td>\n",
       "      <td>40.5</td>\n",
       "      <td>B</td>\n",
       "    </tr>\n",
       "    <tr>\n",
       "      <th>5</th>\n",
       "      <td>182168103</td>\n",
       "      <td>935554773</td>\n",
       "      <td>2019-08-15</td>\n",
       "      <td>35.0</td>\n",
       "      <td>B</td>\n",
       "    </tr>\n",
       "  </tbody>\n",
       "</table>\n",
       "</div>"
      ],
      "text/plain": [
       "   transactionId   visitorId       date  revenue group\n",
       "0     3667963787  3312258926 2019-08-15     30.4     B\n",
       "1     2804400009  3642806036 2019-08-15     15.2     B\n",
       "3     3797467345  1196621759 2019-08-15    155.1     B\n",
       "4     2282983706  2322279887 2019-08-15     40.5     B\n",
       "5      182168103   935554773 2019-08-15     35.0     B"
      ]
     },
     "execution_count": 4,
     "metadata": {},
     "output_type": "execute_result"
    }
   ],
   "source": [
    "ordenes.drop_duplicates()\n",
    "ordenes['date'] = pd.to_datetime(ordenes['date'])\n",
    "\n",
    "usuarios_a = ordenes[ordenes['group'] == 'A']['visitorId'].unique()\n",
    "usuarios_b = ordenes[ordenes['group'] == 'B']['visitorId'].unique()\n",
    "\n",
    "duplicate_users = set(usuarios_a) & set(usuarios_b)\n",
    "ordenes = ordenes[~ordenes['visitorId'].isin(duplicate_users)]\n",
    "\n",
    "print(\"\\nValores faltantes en cada columna:\")\n",
    "print(ordenes.isnull().sum())\n",
    "    \n",
    "print(\"\\nNúmero de duplicados:\")\n",
    "print(ordenes.duplicated().sum())\n",
    "\n",
    "ordenes.info()\n",
    "ordenes.head()"
   ]
  },
  {
   "cell_type": "markdown",
   "metadata": {},
   "source": [
    "<div class=\"alert alert-block alert-info\">\n",
    "<b>Con esto estariamos cumpliendo con la eliminacion de los datos A y B duplicados?</b> <a class=\"tocSkip\"></a>\n",
    "</div>"
   ]
  },
  {
   "cell_type": "code",
   "execution_count": 5,
   "metadata": {
    "scrolled": false
   },
   "outputs": [
    {
     "name": "stdout",
     "output_type": "stream",
     "text": [
      "\n",
      "Valores faltantes en cada columna:\n",
      "transactionId    0\n",
      "visitorId        0\n",
      "date             0\n",
      "revenue          0\n",
      "group            0\n",
      "visits           0\n",
      "dtype: int64\n",
      "\n",
      "Número de duplicados:\n",
      "0\n",
      "<class 'pandas.core.frame.DataFrame'>\n",
      "Int64Index: 1016 entries, 0 to 1015\n",
      "Data columns (total 6 columns):\n",
      " #   Column         Non-Null Count  Dtype         \n",
      "---  ------         --------------  -----         \n",
      " 0   transactionId  1016 non-null   int64         \n",
      " 1   visitorId      1016 non-null   int64         \n",
      " 2   date           1016 non-null   datetime64[ns]\n",
      " 3   revenue        1016 non-null   float64       \n",
      " 4   group          1016 non-null   object        \n",
      " 5   visits         1016 non-null   int64         \n",
      "dtypes: datetime64[ns](1), float64(1), int64(3), object(1)\n",
      "memory usage: 55.6+ KB\n"
     ]
    },
    {
     "data": {
      "text/html": [
       "<div>\n",
       "<style scoped>\n",
       "    .dataframe tbody tr th:only-of-type {\n",
       "        vertical-align: middle;\n",
       "    }\n",
       "\n",
       "    .dataframe tbody tr th {\n",
       "        vertical-align: top;\n",
       "    }\n",
       "\n",
       "    .dataframe thead th {\n",
       "        text-align: right;\n",
       "    }\n",
       "</style>\n",
       "<table border=\"1\" class=\"dataframe\">\n",
       "  <thead>\n",
       "    <tr style=\"text-align: right;\">\n",
       "      <th></th>\n",
       "      <th>transactionId</th>\n",
       "      <th>visitorId</th>\n",
       "      <th>date</th>\n",
       "      <th>revenue</th>\n",
       "      <th>group</th>\n",
       "      <th>visits</th>\n",
       "    </tr>\n",
       "  </thead>\n",
       "  <tbody>\n",
       "    <tr>\n",
       "      <th>0</th>\n",
       "      <td>3667963787</td>\n",
       "      <td>3312258926</td>\n",
       "      <td>2019-08-15</td>\n",
       "      <td>30.4</td>\n",
       "      <td>B</td>\n",
       "      <td>544</td>\n",
       "    </tr>\n",
       "    <tr>\n",
       "      <th>1</th>\n",
       "      <td>2804400009</td>\n",
       "      <td>3642806036</td>\n",
       "      <td>2019-08-15</td>\n",
       "      <td>15.2</td>\n",
       "      <td>B</td>\n",
       "      <td>544</td>\n",
       "    </tr>\n",
       "    <tr>\n",
       "      <th>2</th>\n",
       "      <td>3797467345</td>\n",
       "      <td>1196621759</td>\n",
       "      <td>2019-08-15</td>\n",
       "      <td>155.1</td>\n",
       "      <td>B</td>\n",
       "      <td>544</td>\n",
       "    </tr>\n",
       "    <tr>\n",
       "      <th>3</th>\n",
       "      <td>2282983706</td>\n",
       "      <td>2322279887</td>\n",
       "      <td>2019-08-15</td>\n",
       "      <td>40.5</td>\n",
       "      <td>B</td>\n",
       "      <td>544</td>\n",
       "    </tr>\n",
       "    <tr>\n",
       "      <th>4</th>\n",
       "      <td>182168103</td>\n",
       "      <td>935554773</td>\n",
       "      <td>2019-08-15</td>\n",
       "      <td>35.0</td>\n",
       "      <td>B</td>\n",
       "      <td>544</td>\n",
       "    </tr>\n",
       "  </tbody>\n",
       "</table>\n",
       "</div>"
      ],
      "text/plain": [
       "   transactionId   visitorId       date  revenue group  visits\n",
       "0     3667963787  3312258926 2019-08-15     30.4     B     544\n",
       "1     2804400009  3642806036 2019-08-15     15.2     B     544\n",
       "2     3797467345  1196621759 2019-08-15    155.1     B     544\n",
       "3     2282983706  2322279887 2019-08-15     40.5     B     544\n",
       "4      182168103   935554773 2019-08-15     35.0     B     544"
      ]
     },
     "execution_count": 5,
     "metadata": {},
     "output_type": "execute_result"
    }
   ],
   "source": [
    "visitas.drop_duplicates()\n",
    "visitas['date'] = pd.to_datetime(visitas['date'])\n",
    "\n",
    "visitas = pd.merge(ordenes, visitas, on=['date', 'group'], how='left')\n",
    "\n",
    "print(\"\\nValores faltantes en cada columna:\")\n",
    "print(visitas.isnull().sum())\n",
    "    \n",
    "print(\"\\nNúmero de duplicados:\")\n",
    "print(visitas.duplicated().sum())\n",
    "\n",
    "visitas.info()\n",
    "visitas.head()"
   ]
  },
  {
   "cell_type": "markdown",
   "metadata": {},
   "source": [
    "<div class=\"alert alert-block alert-info\">\n",
    "<b>Realice un merge para unir las tablas de visitas y ordenes con los datos de los usuarios presentes en ambos grupos A y B, estaria esto correcto?</b> <a class=\"tocSkip\"></a>\n",
    "</div>"
   ]
  },
  {
   "cell_type": "markdown",
   "metadata": {},
   "source": [
    "\n",
    "<div class=\"alert alert-block alert-danger\">\n",
    "<b>Comentario del revisor</b> <a class=\"tocSkip\"></a>\n",
    "\n",
    "**Comentario Importante** \n",
    "\n",
    "~~Buen trabajo con el desarrollo del análisis exploratorio para los datasets de órdenes y visitas, sin embargo, hay un aspecto crucial que no estás cubriendo, el cual es importante para que los resultados de la sección de análisis de test A/B funcionen correctamente. Dicho aspecto es que elimines los usuarios que están presentes en los dos grupos (tanto en A como B), teniendo en cuenta lo anterior, después de que cubras ese aspecto, podremos continuar con la revisión de la sección de análisis test A/B.~~  </div>"
   ]
  },
  {
   "cell_type": "code",
   "execution_count": 6,
   "metadata": {
    "scrolled": false
   },
   "outputs": [
    {
     "name": "stdout",
     "output_type": "stream",
     "text": [
      "\n",
      "Hipótesis ordenadas por ICE:\n",
      "                                          Hypothesis        ICE\n",
      "8  Launch a promotion that gives users discounts ...  16.200000\n",
      "0  Add two new channels for attracting traffic. T...  13.333333\n",
      "7  Add a subscription form to all the main pages....  11.200000\n",
      "6  Show banners with current offers and sales on ...   8.000000\n",
      "2  Add product recommendation blocks to the store...   7.000000\n",
      "1  Launch your own delivery service. This will sh...   2.000000\n",
      "5  Add a customer review page. This will increase...   1.333333\n",
      "3  Change the category structure. This will incre...   1.125000\n",
      "4  Change the background color on the main page. ...   1.000000\n"
     ]
    }
   ],
   "source": [
    "hipotesis['ICE'] = (hipotesis['Impact'] * hipotesis['Confidence']) / hipotesis['Effort']\n",
    "hipotesis_ice = hipotesis.sort_values(by='ICE', ascending=False)\n",
    "\n",
    "print(\"\\nHipótesis ordenadas por ICE:\")\n",
    "print(hipotesis_ice[['Hypothesis', 'ICE']])"
   ]
  },
  {
   "cell_type": "code",
   "execution_count": 7,
   "metadata": {
    "scrolled": true
   },
   "outputs": [
    {
     "name": "stdout",
     "output_type": "stream",
     "text": [
      "\n",
      "Hipótesis ordenadas por RICE:\n",
      "                                          Hypothesis   RICE\n",
      "7  Add a subscription form to all the main pages....  112.0\n",
      "2  Add product recommendation blocks to the store...   56.0\n",
      "0  Add two new channels for attracting traffic. T...   40.0\n",
      "6  Show banners with current offers and sales on ...   40.0\n",
      "8  Launch a promotion that gives users discounts ...   16.2\n",
      "3  Change the category structure. This will incre...    9.0\n",
      "1  Launch your own delivery service. This will sh...    4.0\n",
      "5  Add a customer review page. This will increase...    4.0\n",
      "4  Change the background color on the main page. ...    3.0\n"
     ]
    }
   ],
   "source": [
    "hipotesis['RICE'] = (hipotesis['Reach'] * hipotesis['Impact'] * hipotesis['Confidence']) / hipotesis['Effort']\n",
    "hipotesis_rice = hipotesis.sort_values(by='RICE', ascending=False)\n",
    "\n",
    "print(\"\\nHipótesis ordenadas por RICE:\")\n",
    "print(hipotesis_rice[['Hypothesis', 'RICE']])"
   ]
  },
  {
   "cell_type": "markdown",
   "metadata": {},
   "source": [
    "\n",
    "<div class=\"alert alert-block alert-danger\">\n",
    "<b>Comentario del revisor</b> <a class=\"tocSkip\"></a>\n",
    "\n",
    "\n",
    "~~Buen trabajo con el despliegue de los frameworks RICE e ICE, ahora bien, sería interesante poder generar observaciones sobre lo encontrado.~~ </div>"
   ]
  },
  {
   "cell_type": "markdown",
   "metadata": {},
   "source": [
    "<div class=\"alert alert-block alert-info\">\n",
    "<b>Dos de las hipotesis que mas significancia en los frameworks RICE y ICE fueron \"Add product recommendation blocks to the store...\" \"Add two new channels for attracting traffic\". </b> <a class=\"tocSkip\"></a>\n",
    "</div>"
   ]
  },
  {
   "cell_type": "markdown",
   "metadata": {},
   "source": [
    "#### Representa gráficamente el ingreso acumulado por grupo. "
   ]
  },
  {
   "cell_type": "code",
   "execution_count": 8,
   "metadata": {},
   "outputs": [
    {
     "data": {
      "text/plain": [
       "<matplotlib.legend.Legend at 0x7f69a55ab0a0>"
      ]
     },
     "execution_count": 8,
     "metadata": {},
     "output_type": "execute_result"
    },
    {
     "data": {
      "image/png": "[encoded data removed]",
      "text/plain": [
       "<Figure size 640x480 with 1 Axes>"
      ]
     },
     "metadata": {},
     "output_type": "display_data"
    }
   ],
   "source": [
    "datesGroups = ordenes[['date', 'group']].drop_duplicates()\n",
    "\n",
    "ordersAggregated = datesGroups.apply(\n",
    "    lambda x: ordenes[\n",
    "        np.logical_and(\n",
    "            ordenes['date'] <= x['date'], ordenes['group'] == x['group']\n",
    "        )\n",
    "    ].agg({'date': 'max','group': 'max','transactionId': pd.Series.nunique,'visitorId': pd.Series.nunique,'revenue': 'sum',}),\n",
    "    axis=1,\n",
    ").sort_values(by=['date', 'group'])\n",
    "\n",
    "visitorsAggregated = datesGroups.apply(\n",
    "    lambda x: visitas[\n",
    "        np.logical_and(\n",
    "            visitas['date'] <= x['date'], visitas['group'] == x['group']\n",
    "        )\n",
    "    ].agg({'date': 'max', 'group': 'max', 'visits': 'sum'}),\n",
    "    axis=1,\n",
    ").sort_values(by=['date', 'group'])\n",
    "\n",
    "cumulativeData = ordersAggregated.merge(\n",
    "    visitorsAggregated, left_on=['date', 'group'], right_on=['date', 'group']\n",
    ")\n",
    "cumulativeData.columns = [\n",
    "    'date',\n",
    "    'group',\n",
    "    'orders',\n",
    "    'buyers',\n",
    "    'revenue',\n",
    "    'visitors',\n",
    "]\n",
    "\n",
    "cumulativeRevenueA = cumulativeData[cumulativeData['group'] == 'A'][\n",
    "    ['date', 'revenue', 'orders']\n",
    "]\n",
    "cumulativeRevenueB = cumulativeData[cumulativeData['group'] == 'B'][\n",
    "    ['date', 'revenue', 'orders']\n",
    "]\n",
    "\n",
    "plt.plot(cumulativeRevenueA['date'], cumulativeRevenueA['revenue'], label='A')\n",
    "plt.plot(cumulativeRevenueB['date'], cumulativeRevenueB['revenue'], label='B')\n",
    "plt.legend()"
   ]
  },
  {
   "cell_type": "markdown",
   "metadata": {},
   "source": [
    "\n",
    "<div class=\"alert alert-block alert-success\">\n",
    "<b>Comentario del revisor #3</b> <a class=\"tocSkip\"></a>\n",
    "\n",
    "\n",
    "Perfecto, buen trabajo con el desarrollo del gráfico de los ingresos acumulados por grupo. </div>"
   ]
  },
  {
   "cell_type": "markdown",
   "metadata": {},
   "source": [
    "#### Representa gráficamente el tamaño de pedido promedio acumulado por grupo."
   ]
  },
  {
   "cell_type": "code",
   "execution_count": 9,
   "metadata": {},
   "outputs": [
    {
     "data": {
      "text/plain": [
       "<matplotlib.legend.Legend at 0x7f69a54e9c10>"
      ]
     },
     "execution_count": 9,
     "metadata": {},
     "output_type": "execute_result"
    },
    {
     "data": {
      "image/png": "[encoded data removed]",
      "text/plain": [
       "<Figure size 640x480 with 1 Axes>"
      ]
     },
     "metadata": {},
     "output_type": "display_data"
    }
   ],
   "source": [
    "plt.plot(\n",
    "    cumulativeRevenueA['date'],\n",
    "    cumulativeRevenueA['revenue'] / cumulativeRevenueA['orders'],\n",
    "    label='A',\n",
    ")\n",
    "plt.plot(\n",
    "    cumulativeRevenueB['date'],\n",
    "    cumulativeRevenueB['revenue'] / cumulativeRevenueB['orders'],\n",
    "    label='B',\n",
    ")\n",
    "plt.legend()"
   ]
  },
  {
   "cell_type": "markdown",
   "metadata": {},
   "source": [
    "\n",
    "<div class=\"alert alert-block alert-success\">\n",
    "<b>Comentario del revisor #3</b> <a class=\"tocSkip\"></a>\n",
    "\n",
    "\n",
    "Perfecto, buen trabajo con el desarrollo del gráfico del tamaño de pedido promedio acumulado por grupo.  </div>"
   ]
  },
  {
   "cell_type": "markdown",
   "metadata": {},
   "source": [
    "#### Representa gráficamente la diferencia relativa en el tamaño de pedido promedio acumulado para el grupo B en comparación con el grupo A."
   ]
  },
  {
   "cell_type": "code",
   "execution_count": 10,
   "metadata": {},
   "outputs": [
    {
     "data": {
      "text/plain": [
       "<matplotlib.lines.Line2D at 0x7f69a557faf0>"
      ]
     },
     "execution_count": 10,
     "metadata": {},
     "output_type": "execute_result"
    },
    {
     "data": {
      "image/png": "[encoded data removed]",
      "text/plain": [
       "<Figure size 640x480 with 1 Axes>"
      ]
     },
     "metadata": {},
     "output_type": "display_data"
    }
   ],
   "source": [
    "mergedCumulativeRevenue = cumulativeRevenueA.merge(\n",
    "    cumulativeRevenueB,\n",
    "    left_on='date',\n",
    "    right_on='date',\n",
    "    how='left',\n",
    "    suffixes=['A', 'B'],\n",
    ")\n",
    "\n",
    "plt.plot(\n",
    "    mergedCumulativeRevenue['date'],\n",
    "    (mergedCumulativeRevenue['revenueB'] / mergedCumulativeRevenue['ordersB'])\n",
    "    / (\n",
    "        mergedCumulativeRevenue['revenueA']\n",
    "        / mergedCumulativeRevenue['ordersA']\n",
    "    )\n",
    "    - 1,\n",
    ")\n",
    "plt.axhline(y=0, color='black', linestyle='--')"
   ]
  },
  {
   "cell_type": "markdown",
   "metadata": {},
   "source": [
    "\n",
    "<div class=\"alert alert-block alert-success\">\n",
    "<b>Comentario del revisor #3</b> <a class=\"tocSkip\"></a>\n",
    "\n",
    "\n",
    "Perfecto, buen trabajo desarrollando el cálculo y la gráfica de la diferencia relativa entre el tamaño de pedido promedio acumulado por grupo.  </div>"
   ]
  },
  {
   "cell_type": "markdown",
   "metadata": {},
   "source": [
    "#### Calcula la tasa de conversión de cada grupo como la relación entre los pedidos y el número de visitas de cada día. Representa gráficamente las tasas de conversión diarias de los dos grupos y describe la diferencia. "
   ]
  },
  {
   "cell_type": "code",
   "execution_count": 11,
   "metadata": {},
   "outputs": [
    {
     "data": {
      "text/plain": [
       "<matplotlib.legend.Legend at 0x7f69a15e3970>"
      ]
     },
     "execution_count": 11,
     "metadata": {},
     "output_type": "execute_result"
    },
    {
     "data": {
      "image/png": "[encoded data removed]",
      "text/plain": [
       "<Figure size 640x480 with 1 Axes>"
      ]
     },
     "metadata": {},
     "output_type": "display_data"
    }
   ],
   "source": [
    "cumulativeData['conversion'] = (\n",
    "    cumulativeData['orders'] / cumulativeData['visitors']\n",
    ")\n",
    "\n",
    "cumulativeDataA = cumulativeData[cumulativeData['group'] == 'A']\n",
    "cumulativeDataB = cumulativeData[cumulativeData['group'] == 'B']\n",
    "\n",
    "plt.plot(cumulativeDataA['date'], cumulativeDataA['conversion'], label='A')\n",
    "plt.plot(cumulativeDataB['date'], cumulativeDataB['conversion'], label='B')\n",
    "plt.legend()"
   ]
  },
  {
   "cell_type": "markdown",
   "metadata": {},
   "source": [
    "\n",
    "<div class=\"alert alert-block alert-success\">\n",
    "<b>Comentario del revisor #3</b> <a class=\"tocSkip\"></a>\n",
    "\n",
    "\n",
    "Perfecto, buen trabajo con el desarrollo del gráfico de las tasas de conversión diarias por grupo.   </div>"
   ]
  },
  {
   "cell_type": "markdown",
   "metadata": {},
   "source": [
    "#### Traza un gráfico de dispersión del número de pedidos por usuario."
   ]
  },
  {
   "cell_type": "code",
   "execution_count": 12,
   "metadata": {},
   "outputs": [
    {
     "name": "stdout",
     "output_type": "stream",
     "text": [
      "         userId  orders\n",
      "908  3967698036       3\n",
      "55    249864742       3\n",
      "478  2108163459       3\n",
      "687  2988190573       3\n",
      "890  3908431265       3\n",
      "138   611059232       3\n",
      "632  2742574263       3\n",
      "157   678354126       2\n",
      "323  1404560065       2\n",
      "452  1985475298       2\n"
     ]
    },
    {
     "data": {
      "image/png": "[encoded data removed]",
      "text/plain": [
       "<Figure size 640x480 with 1 Axes>"
      ]
     },
     "metadata": {},
     "output_type": "display_data"
    }
   ],
   "source": [
    "ordersByUsers = (\n",
    "    ordenes.drop(['group', 'revenue', 'date'], axis=1)\n",
    "    .groupby('visitorId', as_index=False)\n",
    "    .agg({'transactionId': pd.Series.nunique})\n",
    ")\n",
    "\n",
    "ordersByUsers.columns = ['userId', 'orders']\n",
    "\n",
    "print(ordersByUsers.sort_values(by='orders', ascending=False).head(10))\n",
    "\n",
    "x_values = pd.Series(range(0,len(ordersByUsers)))\n",
    "plt.scatter(x_values, ordersByUsers['orders'])\n",
    "plt.title('Número de Pedidos por Usuario')\n",
    "plt.xlabel('ID de Usuario')\n",
    "plt.ylabel('Número de Pedidos')\n",
    "plt.grid(True)\n",
    "plt.show()"
   ]
  },
  {
   "cell_type": "markdown",
   "metadata": {},
   "source": [
    "\n",
    "<div class=\"alert alert-block alert-success\">\n",
    "<b>Comentario del revisor #3</b> <a class=\"tocSkip\"></a>\n",
    "\n",
    "\n",
    "Perfecto, buen trabajo con el desarrollo del gráfico para estudiar la dispersión del número de pedidos por cliente.  </div>"
   ]
  },
  {
   "cell_type": "markdown",
   "metadata": {},
   "source": [
    "#### Calcula los percentiles 95 y 99 para el número de pedidos por usuario. Define el punto en el cual un punto de datos se convierte en una anomalía."
   ]
  },
  {
   "cell_type": "code",
   "execution_count": 13,
   "metadata": {},
   "outputs": [
    {
     "name": "stdout",
     "output_type": "stream",
     "text": [
      "[1. 2.]\n"
     ]
    }
   ],
   "source": [
    "print(np.percentile(ordersByUsers['orders'], [95, 99]))"
   ]
  },
  {
   "cell_type": "markdown",
   "metadata": {},
   "source": [
    "\n",
    "<div class=\"alert alert-block alert-success\">\n",
    "<b>Comentario del revisor #3</b> <a class=\"tocSkip\"></a>\n",
    "\n",
    "\n",
    "Perfecto, buen trabajo con el desarrollo del cálculo de los percentiles correspondientes.   </div>"
   ]
  },
  {
   "cell_type": "markdown",
   "metadata": {},
   "source": [
    "#### Traza un gráfico de dispersión de los precios de los pedidos. Haz conclusiones y conjeturas."
   ]
  },
  {
   "cell_type": "code",
   "execution_count": 14,
   "metadata": {},
   "outputs": [
    {
     "data": {
      "text/plain": [
       "<matplotlib.collections.PathCollection at 0x7f69a1552a60>"
      ]
     },
     "execution_count": 14,
     "metadata": {},
     "output_type": "execute_result"
    },
    {
     "data": {
      "image/png": "[encoded data removed]",
      "text/plain": [
       "<Figure size 640x480 with 1 Axes>"
      ]
     },
     "metadata": {},
     "output_type": "display_data"
    }
   ],
   "source": [
    "x_values = pd.Series(range(0,len(ordenes['revenue'])))\n",
    "\n",
    "plt.scatter(x_values, ordenes['revenue'])"
   ]
  },
  {
   "cell_type": "markdown",
   "metadata": {},
   "source": [
    "\n",
    "<div class=\"alert alert-block alert-success\">\n",
    "<b>Comentario del revisor #3</b> <a class=\"tocSkip\"></a>\n",
    "\n",
    "\n",
    "Perfecto, buen trabajo con el desarrollo del gráfico para estudiar la dispersión del precio de los pedidos.  </div>"
   ]
  },
  {
   "cell_type": "markdown",
   "metadata": {},
   "source": [
    "#### Calcula los percentiles 95 y 99 de los precios de los pedidos."
   ]
  },
  {
   "cell_type": "code",
   "execution_count": 15,
   "metadata": {},
   "outputs": [
    {
     "name": "stdout",
     "output_type": "stream",
     "text": [
      "[414.275 830.3  ]\n"
     ]
    }
   ],
   "source": [
    "print(np.percentile(ordenes['revenue'], [95, 99]))"
   ]
  },
  {
   "cell_type": "markdown",
   "metadata": {},
   "source": [
    "\n",
    "<div class=\"alert alert-block alert-success\">\n",
    "<b>Comentario del revisor #3</b> <a class=\"tocSkip\"></a>\n",
    "\n",
    "\n",
    "Perfecto, buen trabajo con el desarrollo del cálculo de los percentiles correspondientes.   </div>"
   ]
  },
  {
   "cell_type": "markdown",
   "metadata": {},
   "source": [
    "#### Encuentra la significancia estadística de la diferencia en la conversión entre los grupos utilizando los datos en bruto."
   ]
  },
  {
   "cell_type": "code",
   "execution_count": 16,
   "metadata": {},
   "outputs": [
    {
     "name": "stdout",
     "output_type": "stream",
     "text": [
      "0.80265\n",
      "0.003\n"
     ]
    }
   ],
   "source": [
    "ordersByUsersA = (\n",
    "    ordenes[ordenes['group'] == 'A']\n",
    "    .groupby('visitorId', as_index=False)\n",
    "    .agg({'transactionId': pd.Series.nunique})\n",
    ")\n",
    "ordersByUsersA.columns = ['userId', 'orders']\n",
    "\n",
    "ordersByUsersB = (\n",
    "    ordenes[ordenes['group'] == 'B']\n",
    "    .groupby('visitorId', as_index=False)\n",
    "    .agg({'transactionId': pd.Series.nunique})\n",
    ")\n",
    "ordersByUsersB.columns = ['userId', 'orders']\n",
    "\n",
    "sampleA = pd.concat(\n",
    "    [\n",
    "        ordersByUsersA['orders'],\n",
    "        pd.Series(\n",
    "            0,\n",
    "            index=np.arange(\n",
    "                visitas[visitas['group'] == 'A']['visits'].sum()\n",
    "                - len(ordersByUsersA['orders'])\n",
    "            ),\n",
    "            name='orders',\n",
    "        ),\n",
    "    ],\n",
    "    axis=0,\n",
    ")\n",
    "sampleB = pd.concat(\n",
    "    [\n",
    "        ordersByUsersB['orders'],\n",
    "        pd.Series(\n",
    "            0,\n",
    "            index=np.arange(\n",
    "                visitas[visitas['group'] == 'B']['visits'].sum()\n",
    "                - len(ordersByUsersB['orders'])\n",
    "            ),\n",
    "            name='orders',\n",
    "        ),\n",
    "    ],\n",
    "    axis=0,\n",
    ")\n",
    "\n",
    "print('{0:.5f}'.format(stats.mannwhitneyu(sampleA, sampleB)[1]))\n",
    "print('{0:.3f}'.format(sampleB.mean() / sampleA.mean() - 1))"
   ]
  },
  {
   "cell_type": "markdown",
   "metadata": {},
   "source": [
    "<div class=\"alert alert-block alert-info\">\n",
    "<b> No hay una diferencia significativa en el comportamiento de los usuarios en términos de número de pedidos entre los grupos A y B.  </b> <a class=\"tocSkip\"></a>\n",
    "</div>"
   ]
  },
  {
   "cell_type": "markdown",
   "metadata": {},
   "source": [
    "#### Encuentra la significancia estadística de la diferencia en el tamaño promedio de pedido entre los grupos utilizando los datos en bruto."
   ]
  },
  {
   "cell_type": "code",
   "execution_count": 17,
   "metadata": {},
   "outputs": [
    {
     "name": "stdout",
     "output_type": "stream",
     "text": [
      "0.862\n"
     ]
    }
   ],
   "source": [
    "print(\n",
    "    '{0:.3f}'.format(\n",
    "        stats.mannwhitneyu(\n",
    "            ordenes[ordenes['group'] == 'A']['revenue'],\n",
    "            ordenes[ordenes['group'] == 'B']['revenue'],\n",
    "        )[1]\n",
    "    )\n",
    ")"
   ]
  },
  {
   "cell_type": "markdown",
   "metadata": {},
   "source": [
    "<div class=\"alert alert-block alert-info\">\n",
    "<b> No hay evidencia suficiente para rechazar la hipotesis nula, no hay una diferencia significativa en las distribuciones de ingresos entre los grupos A y B </b> <a class=\"tocSkip\"></a>\n",
    "</div>"
   ]
  },
  {
   "cell_type": "markdown",
   "metadata": {},
   "source": [
    "#### Encuentra la significancia estadística de la diferencia en la conversión entre los grupos utilizando los datos filtrados."
   ]
  },
  {
   "cell_type": "code",
   "execution_count": 18,
   "metadata": {},
   "outputs": [
    {
     "name": "stdout",
     "output_type": "stream",
     "text": [
      "33      249864742\n",
      "58      611059232\n",
      "425    1920142716\n",
      "211    2108163459\n",
      "347    2742574263\n",
      "dtype: int64\n"
     ]
    }
   ],
   "source": [
    "ordersByUsersA = (\n",
    "    ordenes[ordenes['group'] == 'A']\n",
    "    .groupby('visitorId', as_index=False)\n",
    "    .agg({'transactionId': pd.Series.nunique})\n",
    ")\n",
    "ordersByUsersA.columns = ['userId', 'orders']\n",
    "\n",
    "ordersByUsersB = (\n",
    "    ordenes[ordenes['group'] == 'B']\n",
    "    .groupby('visitorId', as_index=False)\n",
    "    .agg({'transactionId': pd.Series.nunique})\n",
    ")\n",
    "ordersByUsersB.columns = ['userId', 'orders']\n",
    "\n",
    "\n",
    "usersWithManyOrders = pd.concat(\n",
    "    [\n",
    "        ordersByUsersA[ordersByUsersA['orders'] > 2]['userId'],\n",
    "        ordersByUsersB[ordersByUsersB['orders'] > 2]['userId'],\n",
    "    ],\n",
    "    axis=0,\n",
    ")\n",
    "usersWithExpensiveOrders = ordenes[ordenes['revenue'] > 10000]['visitorId']\n",
    "abnormalUsers = (\n",
    "    pd.concat([usersWithManyOrders, usersWithExpensiveOrders], axis=0)\n",
    "    .drop_duplicates()\n",
    "    .sort_values()\n",
    ")\n",
    "print(abnormalUsers.head(5))\n"
   ]
  },
  {
   "cell_type": "markdown",
   "metadata": {},
   "source": [
    "<div class=\"alert alert-block alert-info\">\n",
    "<b> El resultado muestra los primeros cinco identificadores de usuarios (visitorId) que han sido catalogados como \"anormales\". Estos usuarios tienen comportamientos que se destacan ya sea por realizar un número inusualmente alto de órdenes (mas de 2) o por haber realizado compras con un valor superior a 10000, por lo que si estos mismos afectaran nuestro estudio de caso seria prudente eliminar.</b> <a class=\"tocSkip\"></a>\n",
    "</div>"
   ]
  },
  {
   "cell_type": "markdown",
   "metadata": {},
   "source": [
    "#### Encuentra la significancia estadística de la diferencia en el tamaño promedio de pedido entre los grupos utilizando los datos filtrados. "
   ]
  },
  {
   "cell_type": "code",
   "execution_count": 19,
   "metadata": {
    "scrolled": true
   },
   "outputs": [
    {
     "name": "stdout",
     "output_type": "stream",
     "text": [
      "0.73716\n",
      "0.023\n"
     ]
    }
   ],
   "source": [
    "sampleAFiltered = pd.concat(\n",
    "    [\n",
    "        ordersByUsersA[\n",
    "            np.logical_not(ordersByUsersA['userId'].isin(abnormalUsers))\n",
    "        ]['orders'],\n",
    "        pd.Series(\n",
    "            0,\n",
    "            index=np.arange(\n",
    "                visitas[visitas['group'] == 'A']['visits'].sum()\n",
    "                - len(ordersByUsersA['orders'])\n",
    "            ),\n",
    "            name='orders',\n",
    "        ),\n",
    "    ],\n",
    "    axis=0,\n",
    ")\n",
    "\n",
    "sampleBFiltered = pd.concat(\n",
    "    [\n",
    "        ordersByUsersB[\n",
    "            np.logical_not(ordersByUsersB['userId'].isin(abnormalUsers))\n",
    "        ]['orders'],\n",
    "        pd.Series(\n",
    "            0,\n",
    "            index=np.arange(\n",
    "                visitas[visitas['group'] == 'B']['visits'].sum()\n",
    "                - len(ordersByUsersB['orders'])\n",
    "            ),\n",
    "            name='orders',\n",
    "        ),\n",
    "    ],\n",
    "    axis=0,\n",
    ")\n",
    "\n",
    "print(\n",
    "    \"{0:.5f}\".format(stats.mannwhitneyu(sampleAFiltered, sampleBFiltered)[1])\n",
    ")\n",
    "print(\"{0:.3f}\".format(sampleBFiltered.mean() / sampleAFiltered.mean() - 1))"
   ]
  },
  {
   "cell_type": "markdown",
   "metadata": {},
   "source": [
    "<div class=\"alert alert-block alert-info\">\n",
    "<b> Ambos grupos parecen tener comportamientos similares en terminos de pedidos realizados, y cualquier diferencia observada es probablemente debida al azar.</b> <a class=\"tocSkip\"></a>\n",
    "</div>"
   ]
  },
  {
   "cell_type": "markdown",
   "metadata": {},
   "source": [
    "\n",
    "<div class=\"alert alert-block alert-danger\">\n",
    "<b>Comentario del revisor #3</b> <a class=\"tocSkip\"></a>\n",
    "\n",
    "\n",
    "~~Buen trabajo con el desarrollo de las secciones de estudio de las significancias estadísticas, ahora bien, no olvides generar observaciones sobre lo encontrado.~~ "
   ]
  },
  {
   "cell_type": "markdown",
   "metadata": {},
   "source": [
    "#### Toma una decisión basada en los resultados de la prueba. Las decisiones posibles son: 1. Para la prueba, considera a uno de los grupos como líder. 2. Para la prueba, concluye que no hay diferencia entre los grupos. 3. Continúa la prueba."
   ]
  },
  {
   "cell_type": "markdown",
   "metadata": {},
   "source": [
    "<div class=\"alert alert-block alert-info\">\n",
    "<b> A lo largo de los diferentes análisis, tanto antes como después de excluir a los usuarios anormales, los resultados no mostraron diferencias significativas entre los grupos. Dado que los resultados no muestran diferencias estadísticamente significativas entre los grupos A y B, se puede concluir que no hay evidencia suficiente para considerar que uno de los grupos es superior al otro en terminos de pedidos realizados, por ende, </b> <a class=\"tocSkip\"></a>\n",
    "</div>"
   ]
  },
  {
   "cell_type": "markdown",
   "metadata": {},
   "source": [
    "\n",
    "<div class=\"alert alert-block alert-danger\">\n",
    "<b>Comentario del revisor #3</b> <a class=\"tocSkip\"></a>\n",
    "\n",
    "\n",
    "~~No olvides desarrollar esta última sección de análisis. ~~"
   ]
  }
 ],
 "metadata": {
  "ExecuteTimeLog": [
   {
    "duration": 475,
    "start_time": "2024-07-27T22:16:17.920Z"
   },
   {
    "duration": 10,
    "start_time": "2024-07-27T22:18:32.486Z"
   },
   {
    "duration": 1061,
    "start_time": "2024-07-27T22:18:46.050Z"
   },
   {
    "duration": 20,
    "start_time": "2024-07-27T22:18:57.167Z"
   },
   {
    "duration": 35,
    "start_time": "2024-07-27T22:20:09.056Z"
   },
   {
    "duration": 20,
    "start_time": "2024-07-27T22:20:54.910Z"
   },
   {
    "duration": 9,
    "start_time": "2024-07-27T22:21:04.404Z"
   },
   {
    "duration": 12,
    "start_time": "2024-07-27T22:21:13.211Z"
   },
   {
    "duration": 10,
    "start_time": "2024-07-27T22:21:20.084Z"
   },
   {
    "duration": 20,
    "start_time": "2024-07-27T22:22:52.641Z"
   },
   {
    "duration": 23,
    "start_time": "2024-07-27T22:22:54.215Z"
   },
   {
    "duration": 18,
    "start_time": "2024-07-27T22:22:56.096Z"
   },
   {
    "duration": 4,
    "start_time": "2024-07-27T22:23:05.271Z"
   },
   {
    "duration": 16,
    "start_time": "2024-07-27T22:23:06.975Z"
   },
   {
    "duration": 479,
    "start_time": "2024-07-27T22:23:12.027Z"
   },
   {
    "duration": 17,
    "start_time": "2024-07-27T22:23:12.509Z"
   },
   {
    "duration": 26,
    "start_time": "2024-07-27T22:23:12.534Z"
   },
   {
    "duration": 23,
    "start_time": "2024-07-27T22:23:12.563Z"
   },
   {
    "duration": 61,
    "start_time": "2024-07-27T22:23:12.591Z"
   },
   {
    "duration": 19,
    "start_time": "2024-07-27T22:23:23.467Z"
   },
   {
    "duration": 16,
    "start_time": "2024-07-27T22:24:44.421Z"
   },
   {
    "duration": 22,
    "start_time": "2024-07-27T22:24:46.753Z"
   },
   {
    "duration": 24,
    "start_time": "2024-07-27T22:25:45.874Z"
   },
   {
    "duration": 29,
    "start_time": "2024-07-27T22:25:55.192Z"
   },
   {
    "duration": 25,
    "start_time": "2024-07-27T22:26:14.600Z"
   },
   {
    "duration": 22,
    "start_time": "2024-07-27T22:26:27.051Z"
   },
   {
    "duration": 22,
    "start_time": "2024-07-27T22:26:35.591Z"
   },
   {
    "duration": 7,
    "start_time": "2024-07-27T22:28:01.125Z"
   },
   {
    "duration": 18,
    "start_time": "2024-07-27T22:28:14.971Z"
   },
   {
    "duration": 21,
    "start_time": "2024-07-27T22:28:34.492Z"
   },
   {
    "duration": 19,
    "start_time": "2024-07-27T22:28:46.004Z"
   },
   {
    "duration": 21,
    "start_time": "2024-07-27T22:29:46.363Z"
   },
   {
    "duration": 29,
    "start_time": "2024-07-27T22:29:57.617Z"
   },
   {
    "duration": 31,
    "start_time": "2024-07-27T22:30:10.529Z"
   },
   {
    "duration": 26,
    "start_time": "2024-07-27T22:30:20.291Z"
   },
   {
    "duration": 30,
    "start_time": "2024-07-27T22:32:33.407Z"
   },
   {
    "duration": 23,
    "start_time": "2024-07-27T22:33:07.671Z"
   },
   {
    "duration": 19,
    "start_time": "2024-07-27T22:33:28.396Z"
   },
   {
    "duration": 20,
    "start_time": "2024-07-27T22:34:00.055Z"
   },
   {
    "duration": 26,
    "start_time": "2024-07-27T22:51:22.876Z"
   },
   {
    "duration": 31,
    "start_time": "2024-07-27T22:51:33.482Z"
   },
   {
    "duration": 29,
    "start_time": "2024-07-27T22:51:45.387Z"
   },
   {
    "duration": 335,
    "start_time": "2024-07-27T22:53:37.379Z"
   },
   {
    "duration": 32,
    "start_time": "2024-07-27T22:53:53.554Z"
   },
   {
    "duration": 35,
    "start_time": "2024-07-27T22:53:58.626Z"
   },
   {
    "duration": 11,
    "start_time": "2024-07-27T22:54:04.383Z"
   },
   {
    "duration": 12,
    "start_time": "2024-07-27T22:56:31.850Z"
   },
   {
    "duration": 9,
    "start_time": "2024-07-27T22:56:36.633Z"
   },
   {
    "duration": 14,
    "start_time": "2024-07-27T22:59:03.406Z"
   },
   {
    "duration": 11,
    "start_time": "2024-07-27T23:03:14.932Z"
   },
   {
    "duration": 10,
    "start_time": "2024-07-27T23:03:30.042Z"
   },
   {
    "duration": 3818,
    "start_time": "2024-07-27T23:13:30.765Z"
   },
   {
    "duration": 13,
    "start_time": "2024-07-27T23:18:24.089Z"
   },
   {
    "duration": 88,
    "start_time": "2024-07-27T23:19:22.075Z"
   },
   {
    "duration": 10,
    "start_time": "2024-07-27T23:19:35.525Z"
   },
   {
    "duration": 714,
    "start_time": "2024-07-27T23:21:31.579Z"
   },
   {
    "duration": 155,
    "start_time": "2024-07-27T23:22:13.440Z"
   },
   {
    "duration": 394,
    "start_time": "2024-07-27T23:22:27.777Z"
   },
   {
    "duration": 745,
    "start_time": "2024-07-27T23:22:44.521Z"
   },
   {
    "duration": 248,
    "start_time": "2024-07-27T23:25:04.639Z"
   },
   {
    "duration": 384,
    "start_time": "2024-07-27T23:30:08.709Z"
   },
   {
    "duration": 221,
    "start_time": "2024-07-27T23:33:15.520Z"
   },
   {
    "duration": 288,
    "start_time": "2024-07-27T23:34:41.256Z"
   },
   {
    "duration": 27,
    "start_time": "2024-07-27T23:38:16.810Z"
   },
   {
    "duration": 17,
    "start_time": "2024-07-27T23:38:19.029Z"
   },
   {
    "duration": 237,
    "start_time": "2024-07-27T23:38:33.542Z"
   },
   {
    "duration": 375,
    "start_time": "2024-07-27T23:39:30.284Z"
   },
   {
    "duration": 468,
    "start_time": "2024-07-27T23:40:29.855Z"
   },
   {
    "duration": 418,
    "start_time": "2024-07-27T23:40:50.885Z"
   },
   {
    "duration": 432,
    "start_time": "2024-07-27T23:40:52.693Z"
   },
   {
    "duration": 393,
    "start_time": "2024-07-27T23:41:06.462Z"
   },
   {
    "duration": 429,
    "start_time": "2024-07-27T23:42:40.109Z"
   },
   {
    "duration": 393,
    "start_time": "2024-07-27T23:44:57.816Z"
   },
   {
    "duration": 418,
    "start_time": "2024-07-27T23:45:22.095Z"
   },
   {
    "duration": 6,
    "start_time": "2024-07-27T23:45:59.513Z"
   },
   {
    "duration": 18,
    "start_time": "2024-07-27T23:47:43.699Z"
   },
   {
    "duration": 22,
    "start_time": "2024-07-27T23:47:47.439Z"
   },
   {
    "duration": 23,
    "start_time": "2024-07-27T23:48:38.191Z"
   },
   {
    "duration": 207,
    "start_time": "2024-07-27T23:48:46.353Z"
   },
   {
    "duration": 18,
    "start_time": "2024-07-27T23:49:56.764Z"
   },
   {
    "duration": 7,
    "start_time": "2024-07-27T23:50:19.599Z"
   },
   {
    "duration": 449,
    "start_time": "2024-07-27T23:52:42.429Z"
   },
   {
    "duration": 96,
    "start_time": "2024-07-27T23:52:47.176Z"
   },
   {
    "duration": 11,
    "start_time": "2024-07-27T23:53:00.055Z"
   },
   {
    "duration": 21,
    "start_time": "2024-07-27T23:53:08.526Z"
   },
   {
    "duration": 10,
    "start_time": "2024-07-27T23:53:11.744Z"
   },
   {
    "duration": 252,
    "start_time": "2024-07-27T23:54:04.052Z"
   },
   {
    "duration": 423,
    "start_time": "2024-07-27T23:54:17.968Z"
   },
   {
    "duration": 266,
    "start_time": "2024-07-27T23:54:21.597Z"
   },
   {
    "duration": 14,
    "start_time": "2024-07-27T23:57:22.203Z"
   },
   {
    "duration": 6,
    "start_time": "2024-07-27T23:58:05.832Z"
   },
   {
    "duration": 5,
    "start_time": "2024-07-27T23:58:12.676Z"
   },
   {
    "duration": 10,
    "start_time": "2024-07-27T23:58:25.220Z"
   },
   {
    "duration": 71,
    "start_time": "2024-07-27T23:59:37.508Z"
   },
   {
    "duration": 547,
    "start_time": "2024-07-27T23:59:54.859Z"
   },
   {
    "duration": 17,
    "start_time": "2024-07-28T00:00:10.229Z"
   },
   {
    "duration": 84,
    "start_time": "2024-07-28T00:00:20.286Z"
   },
   {
    "duration": 93,
    "start_time": "2024-07-28T00:00:56.582Z"
   },
   {
    "duration": 291,
    "start_time": "2024-07-28T00:01:10.866Z"
   },
   {
    "duration": 308,
    "start_time": "2024-07-28T00:01:23.057Z"
   },
   {
    "duration": 271,
    "start_time": "2024-07-28T00:01:32.772Z"
   },
   {
    "duration": 38,
    "start_time": "2024-07-28T00:03:44.536Z"
   },
   {
    "duration": 39,
    "start_time": "2024-07-28T00:04:08.334Z"
   },
   {
    "duration": 309,
    "start_time": "2024-07-29T03:39:53.404Z"
   },
   {
    "duration": 4747,
    "start_time": "2024-07-29T03:40:05.367Z"
   },
   {
    "duration": 35,
    "start_time": "2024-07-29T03:40:10.118Z"
   },
   {
    "duration": 47,
    "start_time": "2024-07-29T03:40:10.156Z"
   },
   {
    "duration": 414,
    "start_time": "2024-07-29T03:40:10.207Z"
   },
   {
    "duration": 1,
    "start_time": "2024-07-29T03:40:10.624Z"
   },
   {
    "duration": 0,
    "start_time": "2024-07-29T03:40:10.631Z"
   },
   {
    "duration": 0,
    "start_time": "2024-07-29T03:40:10.633Z"
   },
   {
    "duration": 0,
    "start_time": "2024-07-29T03:40:10.635Z"
   },
   {
    "duration": 0,
    "start_time": "2024-07-29T03:40:10.637Z"
   },
   {
    "duration": 0,
    "start_time": "2024-07-29T03:40:10.638Z"
   },
   {
    "duration": 0,
    "start_time": "2024-07-29T03:40:10.641Z"
   },
   {
    "duration": 0,
    "start_time": "2024-07-29T03:40:10.643Z"
   },
   {
    "duration": 0,
    "start_time": "2024-07-29T03:40:10.645Z"
   },
   {
    "duration": 0,
    "start_time": "2024-07-29T03:40:10.648Z"
   },
   {
    "duration": 0,
    "start_time": "2024-07-29T03:40:10.650Z"
   },
   {
    "duration": 1,
    "start_time": "2024-07-29T03:40:10.652Z"
   },
   {
    "duration": 0,
    "start_time": "2024-07-29T03:40:10.655Z"
   },
   {
    "duration": 0,
    "start_time": "2024-07-29T03:40:10.657Z"
   },
   {
    "duration": 0,
    "start_time": "2024-07-29T03:40:10.660Z"
   },
   {
    "duration": 37,
    "start_time": "2024-07-29T03:40:24.054Z"
   },
   {
    "duration": 1089,
    "start_time": "2024-07-29T03:40:38.394Z"
   },
   {
    "duration": 16,
    "start_time": "2024-07-29T03:40:39.488Z"
   },
   {
    "duration": 38,
    "start_time": "2024-07-29T03:40:39.506Z"
   },
   {
    "duration": 36,
    "start_time": "2024-07-29T03:40:39.547Z"
   },
   {
    "duration": 54,
    "start_time": "2024-07-29T03:40:39.588Z"
   },
   {
    "duration": 13,
    "start_time": "2024-07-29T03:40:39.646Z"
   },
   {
    "duration": 13,
    "start_time": "2024-07-29T03:40:39.662Z"
   },
   {
    "duration": 720,
    "start_time": "2024-07-29T03:40:39.678Z"
   },
   {
    "duration": 254,
    "start_time": "2024-07-29T03:40:40.401Z"
   },
   {
    "duration": 336,
    "start_time": "2024-07-29T03:40:40.658Z"
   },
   {
    "duration": 292,
    "start_time": "2024-07-29T03:40:40.997Z"
   },
   {
    "duration": 536,
    "start_time": "2024-07-29T03:40:41.294Z"
   },
   {
    "duration": 5,
    "start_time": "2024-07-29T03:40:41.833Z"
   },
   {
    "duration": 244,
    "start_time": "2024-07-29T03:40:41.844Z"
   },
   {
    "duration": 7,
    "start_time": "2024-07-29T03:40:42.091Z"
   },
   {
    "duration": 313,
    "start_time": "2024-07-29T03:40:42.100Z"
   },
   {
    "duration": 14,
    "start_time": "2024-07-29T03:40:42.430Z"
   },
   {
    "duration": 283,
    "start_time": "2024-07-29T03:40:42.448Z"
   },
   {
    "duration": 41,
    "start_time": "2024-07-29T03:40:42.734Z"
   },
   {
    "duration": 32,
    "start_time": "2024-07-29T03:43:08.834Z"
   },
   {
    "duration": 1151,
    "start_time": "2024-07-29T03:43:19.332Z"
   },
   {
    "duration": 16,
    "start_time": "2024-07-29T03:43:20.488Z"
   },
   {
    "duration": 43,
    "start_time": "2024-07-29T03:43:20.507Z"
   },
   {
    "duration": 37,
    "start_time": "2024-07-29T03:43:20.553Z"
   },
   {
    "duration": 59,
    "start_time": "2024-07-29T03:43:20.595Z"
   },
   {
    "duration": 14,
    "start_time": "2024-07-29T03:43:20.658Z"
   },
   {
    "duration": 12,
    "start_time": "2024-07-29T03:43:20.675Z"
   },
   {
    "duration": 696,
    "start_time": "2024-07-29T03:43:20.689Z"
   },
   {
    "duration": 256,
    "start_time": "2024-07-29T03:43:21.387Z"
   },
   {
    "duration": 352,
    "start_time": "2024-07-29T03:43:21.646Z"
   },
   {
    "duration": 315,
    "start_time": "2024-07-29T03:43:22.003Z"
   },
   {
    "duration": 527,
    "start_time": "2024-07-29T03:43:22.321Z"
   },
   {
    "duration": 6,
    "start_time": "2024-07-29T03:43:22.851Z"
   },
   {
    "duration": 237,
    "start_time": "2024-07-29T03:43:22.863Z"
   },
   {
    "duration": 5,
    "start_time": "2024-07-29T03:43:23.103Z"
   },
   {
    "duration": 328,
    "start_time": "2024-07-29T03:43:23.111Z"
   },
   {
    "duration": 14,
    "start_time": "2024-07-29T03:43:23.441Z"
   },
   {
    "duration": 254,
    "start_time": "2024-07-29T03:43:23.458Z"
   },
   {
    "duration": 52,
    "start_time": "2024-07-29T03:43:23.715Z"
   },
   {
    "duration": 35,
    "start_time": "2024-07-29T03:43:45.264Z"
   },
   {
    "duration": 70,
    "start_time": "2024-07-29T03:44:08.020Z"
   },
   {
    "duration": 1171,
    "start_time": "2024-07-29T03:44:22.499Z"
   },
   {
    "duration": 17,
    "start_time": "2024-07-29T03:44:23.674Z"
   },
   {
    "duration": 46,
    "start_time": "2024-07-29T03:44:23.694Z"
   },
   {
    "duration": 37,
    "start_time": "2024-07-29T03:44:23.744Z"
   },
   {
    "duration": 707,
    "start_time": "2024-07-29T03:44:23.784Z"
   },
   {
    "duration": 0,
    "start_time": "2024-07-29T03:44:24.495Z"
   },
   {
    "duration": 0,
    "start_time": "2024-07-29T03:44:24.497Z"
   },
   {
    "duration": 0,
    "start_time": "2024-07-29T03:44:24.499Z"
   },
   {
    "duration": 0,
    "start_time": "2024-07-29T03:44:24.501Z"
   },
   {
    "duration": 0,
    "start_time": "2024-07-29T03:44:24.503Z"
   },
   {
    "duration": 0,
    "start_time": "2024-07-29T03:44:24.506Z"
   },
   {
    "duration": 0,
    "start_time": "2024-07-29T03:44:24.507Z"
   },
   {
    "duration": 0,
    "start_time": "2024-07-29T03:44:24.509Z"
   },
   {
    "duration": 0,
    "start_time": "2024-07-29T03:44:24.531Z"
   },
   {
    "duration": 0,
    "start_time": "2024-07-29T03:44:24.532Z"
   },
   {
    "duration": 0,
    "start_time": "2024-07-29T03:44:24.534Z"
   },
   {
    "duration": 0,
    "start_time": "2024-07-29T03:44:24.537Z"
   },
   {
    "duration": 0,
    "start_time": "2024-07-29T03:44:24.539Z"
   },
   {
    "duration": 1,
    "start_time": "2024-07-29T03:44:24.542Z"
   },
   {
    "duration": 27,
    "start_time": "2024-07-29T03:45:03.062Z"
   },
   {
    "duration": 39,
    "start_time": "2024-07-29T03:47:31.972Z"
   },
   {
    "duration": 8,
    "start_time": "2024-07-29T03:48:57.068Z"
   },
   {
    "duration": 1162,
    "start_time": "2024-07-29T03:49:07.816Z"
   },
   {
    "duration": 16,
    "start_time": "2024-07-29T03:49:08.984Z"
   },
   {
    "duration": 44,
    "start_time": "2024-07-29T03:49:09.003Z"
   },
   {
    "duration": 37,
    "start_time": "2024-07-29T03:49:09.051Z"
   },
   {
    "duration": 69,
    "start_time": "2024-07-29T03:49:09.091Z"
   },
   {
    "duration": 11,
    "start_time": "2024-07-29T03:49:09.164Z"
   },
   {
    "duration": 13,
    "start_time": "2024-07-29T03:49:09.177Z"
   },
   {
    "duration": 731,
    "start_time": "2024-07-29T03:49:09.193Z"
   },
   {
    "duration": 286,
    "start_time": "2024-07-29T03:49:09.926Z"
   },
   {
    "duration": 363,
    "start_time": "2024-07-29T03:49:10.218Z"
   },
   {
    "duration": 274,
    "start_time": "2024-07-29T03:49:10.584Z"
   },
   {
    "duration": 477,
    "start_time": "2024-07-29T03:49:10.861Z"
   },
   {
    "duration": 6,
    "start_time": "2024-07-29T03:49:11.341Z"
   },
   {
    "duration": 226,
    "start_time": "2024-07-29T03:49:11.351Z"
   },
   {
    "duration": 9,
    "start_time": "2024-07-29T03:49:11.580Z"
   },
   {
    "duration": 876,
    "start_time": "2024-07-29T03:49:11.592Z"
   },
   {
    "duration": 13,
    "start_time": "2024-07-29T03:49:12.471Z"
   },
   {
    "duration": 277,
    "start_time": "2024-07-29T03:49:12.487Z"
   },
   {
    "duration": 625,
    "start_time": "2024-07-29T03:49:12.767Z"
   },
   {
    "duration": 6,
    "start_time": "2024-07-29T03:51:24.995Z"
   },
   {
    "duration": 4798,
    "start_time": "2024-07-30T01:30:49.836Z"
   },
   {
    "duration": 30,
    "start_time": "2024-07-30T01:30:54.637Z"
   },
   {
    "duration": 32,
    "start_time": "2024-07-30T01:30:54.670Z"
   },
   {
    "duration": 50,
    "start_time": "2024-07-30T01:30:54.705Z"
   },
   {
    "duration": 36,
    "start_time": "2024-07-30T01:30:54.760Z"
   },
   {
    "duration": 45,
    "start_time": "2024-07-30T01:30:54.800Z"
   },
   {
    "duration": 14,
    "start_time": "2024-07-30T01:30:54.848Z"
   },
   {
    "duration": 745,
    "start_time": "2024-07-30T01:30:54.865Z"
   },
   {
    "duration": 267,
    "start_time": "2024-07-30T01:30:55.613Z"
   },
   {
    "duration": 402,
    "start_time": "2024-07-30T01:30:55.883Z"
   },
   {
    "duration": 283,
    "start_time": "2024-07-30T01:30:56.289Z"
   },
   {
    "duration": 473,
    "start_time": "2024-07-30T01:30:56.575Z"
   },
   {
    "duration": 7,
    "start_time": "2024-07-30T01:30:57.051Z"
   },
   {
    "duration": 236,
    "start_time": "2024-07-30T01:30:57.064Z"
   },
   {
    "duration": 5,
    "start_time": "2024-07-30T01:30:57.306Z"
   },
   {
    "duration": 854,
    "start_time": "2024-07-30T01:30:57.315Z"
   },
   {
    "duration": 12,
    "start_time": "2024-07-30T01:30:58.172Z"
   },
   {
    "duration": 268,
    "start_time": "2024-07-30T01:30:58.188Z"
   },
   {
    "duration": 614,
    "start_time": "2024-07-30T01:30:58.460Z"
   },
   {
    "duration": 468,
    "start_time": "2024-07-30T01:33:51.859Z"
   },
   {
    "duration": 31,
    "start_time": "2024-07-30T01:33:56.385Z"
   },
   {
    "duration": 457,
    "start_time": "2024-07-30T01:34:15.660Z"
   },
   {
    "duration": 421,
    "start_time": "2024-07-30T01:34:22.264Z"
   },
   {
    "duration": 312,
    "start_time": "2024-07-30T03:42:12.984Z"
   },
   {
    "duration": 4718,
    "start_time": "2024-07-30T03:42:20.523Z"
   },
   {
    "duration": 30,
    "start_time": "2024-07-30T03:42:25.245Z"
   },
   {
    "duration": 34,
    "start_time": "2024-07-30T03:42:25.277Z"
   },
   {
    "duration": 36,
    "start_time": "2024-07-30T03:42:25.326Z"
   },
   {
    "duration": 61,
    "start_time": "2024-07-30T03:42:25.368Z"
   },
   {
    "duration": 12,
    "start_time": "2024-07-30T03:42:25.431Z"
   },
   {
    "duration": 13,
    "start_time": "2024-07-30T03:42:25.446Z"
   },
   {
    "duration": 766,
    "start_time": "2024-07-30T03:42:25.462Z"
   },
   {
    "duration": 263,
    "start_time": "2024-07-30T03:42:26.231Z"
   },
   {
    "duration": 373,
    "start_time": "2024-07-30T03:42:26.497Z"
   },
   {
    "duration": 275,
    "start_time": "2024-07-30T03:42:26.873Z"
   },
   {
    "duration": 494,
    "start_time": "2024-07-30T03:42:27.152Z"
   },
   {
    "duration": 6,
    "start_time": "2024-07-30T03:42:27.650Z"
   },
   {
    "duration": 233,
    "start_time": "2024-07-30T03:42:27.662Z"
   },
   {
    "duration": 7,
    "start_time": "2024-07-30T03:42:27.898Z"
   },
   {
    "duration": 813,
    "start_time": "2024-07-30T03:42:27.928Z"
   },
   {
    "duration": 13,
    "start_time": "2024-07-30T03:42:28.744Z"
   },
   {
    "duration": 256,
    "start_time": "2024-07-30T03:42:28.759Z"
   },
   {
    "duration": 524,
    "start_time": "2024-07-30T03:42:29.025Z"
   },
   {
    "duration": 13,
    "start_time": "2024-07-31T04:25:27.699Z"
   }
  ],
  "kernelspec": {
   "display_name": "Python 3 (ipykernel)",
   "language": "python",
   "name": "python3"
  },
  "language_info": {
   "codemirror_mode": {
    "name": "ipython",
    "version": 3
   },
   "file_extension": ".py",
   "mimetype": "text/x-python",
   "name": "python",
   "nbconvert_exporter": "python",
   "pygments_lexer": "ipython3",
   "version": "3.9.19"
  },
  "toc": {
   "base_numbering": 1,
   "nav_menu": {},
   "number_sections": true,
   "sideBar": true,
   "skip_h1_title": true,
   "title_cell": "Table of Contents",
   "title_sidebar": "Contents",
   "toc_cell": false,
   "toc_position": {},
   "toc_section_display": true,
   "toc_window_display": false
  }
 },
 "nbformat": 4,
 "nbformat_minor": 2
}
